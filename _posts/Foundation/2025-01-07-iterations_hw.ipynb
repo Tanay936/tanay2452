{
 "cells": [
  {
   "cell_type": "code",
   "execution_count": null,
   "metadata": {},
   "outputs": [],
   "source": [
    "---\n",
    "comments: True\n",
    "layout: post\n",
    "title: Iteration Homework\n",
    "description: Iterations HW\n",
    "permalink: /csse/javascript/fundamentals/iteration/hw\n",
    "categories: [CSSE JavaScript Fundamentals]\n",
    "author: Andrew Ge, Ishan Shrivastava, Pratheep Natarajan, and Ruhaan Bansal\n",
    "---  "
   ]
  },
  {
   "cell_type": "markdown",
   "metadata": {},
   "source": [
    "### Exercise 1: Multiplication Table\n",
    "##### Write a JavaScript program to print the multiplication table for a given number."
   ]
  },
  {
   "cell_type": "markdown",
   "metadata": {},
   "source": [
    "##### Example:\n",
    "##### Input: 3\n",
    "##### Output:\n",
    "##### 3 x 1 = 3\n",
    "##### 3 x 2 = 6\n",
    "##### ...\n",
    "##### 3 x 10 = 30"
   ]
  },
  {
   "cell_type": "markdown",
   "metadata": {},
   "source": [
    "### Exercise 2: Nested Loops\n",
    "##### Write a JavaScript program using nested loops to generate the following pattern:"
   ]
  },
  {
   "cell_type": "markdown",
   "metadata": {},
   "source": [
    "##### Output:\n",
    "##### 0\n",
    "##### 00\n",
    "##### 000\n",
    "##### 0000\n",
    "##### 00000"
   ]
  },
  {
   "cell_type": "markdown",
   "metadata": {},
   "source": [
    "### Challenge Exercise: Prime Numbers\n",
    "##### Write a JavaScript program to print all prime numbers between 1 and 50."
   ]
  },
  {
   "cell_type": "markdown",
   "metadata": {},
   "source": [
    "# End of Homework"
   ]
  },
  {
   "cell_type": "code",
   "execution_count": 5,
   "metadata": {
    "vscode": {
     "languageId": "javascript"
    }
   },
   "outputs": [
    {
     "data": {
      "application/javascript": "function multiplicationTable(number) {  //function name\n    for (let i = 1; i <= 10; i++) {  // loop from 1 to 10\n        console.log(`${number} x ${i} = ${number * i}`); //prints the stuff\n    }\n}\nmultiplicationTable(3); //number you use for the multiplication table\n",
      "text/plain": [
       "<IPython.core.display.Javascript object>"
      ]
     },
     "metadata": {},
     "output_type": "display_data"
    }
   ],
   "source": [
    "%%js\n",
    "function multiplicationTable(number) {  //function name\n",
    "    for (let i = 1; i <= 10; i++) {  // loop from 1 to 10\n",
    "        console.log(`${number} x ${i} = ${number * i}`); //prints the stuff\n",
    "    }\n",
    "}\n",
    "multiplicationTable(3); //number you use for the multiplication table"
   ]
  },
  {
   "cell_type": "code",
   "execution_count": 6,
   "metadata": {
    "vscode": {
     "languageId": "javascript"
    }
   },
   "outputs": [
    {
     "data": {
      "application/javascript": "for (let i = 1; i <= 5; i++) {  //runs 5 times and controls how may zeros to add\n    let zeroes = \"\"; //stores zeros\n    for (let j = 1; j <= i; j++) { //adds zeros based on the number of i\n        zeroes += \"0\";\n    }\n    console.log(zeroes);  //prints he zeros\n}\n",
      "text/plain": [
       "<IPython.core.display.Javascript object>"
      ]
     },
     "metadata": {},
     "output_type": "display_data"
    }
   ],
   "source": [
    "%%js \n",
    "for (let i = 1; i <= 5; i++) {  //runs 5 times and controls how may zeros to add\n",
    "    let zeroes = \"\"; //stores zeros\n",
    "    for (let j = 1; j <= i; j++) { //adds zeros based on the number of i\n",
    "        zeroes += \"0\";\n",
    "    }\n",
    "    console.log(zeroes);  //prints he zeros\n",
    "}"
   ]
  },
  {
   "cell_type": "code",
   "execution_count": 7,
   "metadata": {
    "vscode": {
     "languageId": "javascript"
    }
   },
   "outputs": [
    {
     "data": {
      "application/javascript": "function isPrime(num) {  //checks if the number is a prime number\n    if (num <= 1) return false;  // doesn't use any number less than 1\n    for (let i = 2; i <= Math.sqrt(num); i++) {  //Loops from 2 up to the square root of num\n        if (num % i === 0) return false; //if the number is divisible by i, it will ot print\n    }\n    return true;\n}\n\nfor (let i = 1; i <= 50; i++) { // loops from 1 to 50\n    if (isPrime(i)) {   //checks if the number is prime \n        console.log(i);  //prins the stuff\n    }\n}\n",
      "text/plain": [
       "<IPython.core.display.Javascript object>"
      ]
     },
     "metadata": {},
     "output_type": "display_data"
    }
   ],
   "source": [
    "%%js \n",
    "function isPrime(num) {  //checks if the number is a prime number\n",
    "    if (num <= 1) return false;  // doesn't use any number less than 1\n",
    "    for (let i = 2; i <= Math.sqrt(num); i++) {  //Loops from 2 up to the square root of num\n",
    "        if (num % i === 0) return false; //if the number is divisible by i, it will ot print\n",
    "    }\n",
    "    return true;\n",
    "}\n",
    "\n",
    "for (let i = 1; i <= 50; i++) { // loops from 1 to 50\n",
    "    if (isPrime(i)) {   //checks if the number is prime \n",
    "        console.log(i);  //prins the stuff\n",
    "    }\n",
    "}"
   ]
  }
 ],
 "metadata": {
  "kernelspec": {
   "display_name": "venv",
   "language": "python",
   "name": "python3"
  },
  "language_info": {
   "codemirror_mode": {
    "name": "ipython",
    "version": 3
   },
   "file_extension": ".py",
   "mimetype": "text/x-python",
   "name": "python",
   "nbconvert_exporter": "python",
   "pygments_lexer": "ipython3",
   "version": "3.13.1"
  }
 },
 "nbformat": 4,
 "nbformat_minor": 2
}
