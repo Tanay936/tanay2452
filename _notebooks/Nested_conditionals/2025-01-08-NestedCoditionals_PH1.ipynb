{
 "cells": [
  {
   "cell_type": "code",
   "execution_count": null,
   "metadata": {},
   "outputs": [],
   "source": [
    "---\n",
    "layout: post\n",
    "title: Nested Conditionals, Popcorn Hack One\n",
    "description:  First popcorn hack for nested conditonals\n",
    "type: issues \n",
    "comments: true\n",
    "---"
   ]
  },
  {
   "cell_type": "markdown",
   "metadata": {},
   "source": [
    "### Popcorn Hack 1\n",
    "\n",
    "This code has the option to let the player go on a ride of their choosing, and either lets them go on the ride or does not let them go on the ride based on their amount of tickets that they have. Try adding some code that makes it so that the code also takes into account the height of the person trying to ride the ride and have it be another constraint that determines whether or not the person goes on a ride."
   ]
  },
  {
   "cell_type": "code",
   "execution_count": 1,
   "metadata": {
    "vscode": {
     "languageId": "html"
    }
   },
   "outputs": [
    {
     "data": {
      "text/html": [
       "\n",
       "<div id=\"message\"></div>\n",
       "<script>\n",
       "    function runWhenDOMLoaded() {\n",
       "        let ticketAmount = 60; \n",
       "        let ride = \"Ferris Wheel\"; \n",
       "        let height = 50; \n",
       "        let rideHeight = 50; \n",
       "\n",
       "        const messageElement = document.getElementById(\"message\");\n",
       "\n",
       "        \n",
       "        function displayMessage(message) {\n",
       "            console.log(message); \n",
       "            messageElement.textContent = message; \n",
       "        }\n",
       "\n",
       "        \n",
       "        function checkHeight(requiredHeight) {\n",
       "            if (height >= requiredHeight) {\n",
       "                return true;\n",
       "            } else {\n",
       "                return false;\n",
       "            }\n",
       "        }\n",
       "\n",
       "        \n",
       "        function enoughTicketsAndHeight(requiredTickets, requiredHeight) {\n",
       "            if (ticketAmount >= requiredTickets) {\n",
       "                if (checkHeight(requiredHeight)) {\n",
       "                    displayMessage(\"You have enough tickets, and you are tall enough! Yay! :D\");\n",
       "                } else {\n",
       "                    displayMessage(\"You have enough tickets, but you are not tall enough... :(\");\n",
       "                }\n",
       "            } else {\n",
       "                displayMessage(\"You don't have enough tickets... :(\");\n",
       "            }\n",
       "        }\n",
       "\n",
       "        \n",
       "        if (ride === \"Roller Coaster\") {\n",
       "            enoughTicketsAndHeight(60, 55); \n",
       "        } else if (ride === \"Ferris Wheel\") {\n",
       "            enoughTicketsAndHeight(40, 50); \n",
       "        } else {\n",
       "            displayMessage(\"Invalid ride selection.\");\n",
       "        }\n",
       "    }\n",
       "\n",
       "    \n",
       "    if (document.readyState === \"loading\") {\n",
       "        document.addEventListener(\"DOMContentLoaded\", runWhenDOMLoaded);\n",
       "    } else {\n",
       "        runWhenDOMLoaded();\n",
       "    }\n",
       "</script>\n"
      ],
      "text/plain": [
       "<IPython.core.display.HTML object>"
      ]
     },
     "metadata": {},
     "output_type": "display_data"
    }
   ],
   "source": [
    "%%html\n",
    "\n",
    "<div id=\"message\"></div>\n",
    "<script>\n",
    "    function runWhenDOMLoaded() {\n",
    "        let ticketAmount = 60; \n",
    "        let ride = \"Ferris Wheel\"; \n",
    "        let height = 50; \n",
    "        let rideHeight = 50; \n",
    "\n",
    "        const messageElement = document.getElementById(\"message\");\n",
    "\n",
    "        \n",
    "        function displayMessage(message) {\n",
    "            console.log(message); \n",
    "            messageElement.textContent = message; \n",
    "        }\n",
    "\n",
    "        \n",
    "        function checkHeight(requiredHeight) {\n",
    "            if (height >= requiredHeight) {\n",
    "                return true;\n",
    "            } else {\n",
    "                return false;\n",
    "            }\n",
    "        }\n",
    "\n",
    "        \n",
    "        function enoughTicketsAndHeight(requiredTickets, requiredHeight) {\n",
    "            if (ticketAmount >= requiredTickets) {\n",
    "                if (checkHeight(requiredHeight)) {\n",
    "                    displayMessage(\"You have enough tickets, and you are tall enough! Yay! :D\");\n",
    "                } else {\n",
    "                    displayMessage(\"You have enough tickets, but you are not tall enough... :(\");\n",
    "                }\n",
    "            } else {\n",
    "                displayMessage(\"You don't have enough tickets... :(\");\n",
    "            }\n",
    "        }\n",
    "\n",
    "        \n",
    "        if (ride === \"Roller Coaster\") {\n",
    "            enoughTicketsAndHeight(60, 55); \n",
    "        } else if (ride === \"Ferris Wheel\") {\n",
    "            enoughTicketsAndHeight(40, 50); \n",
    "        } else {\n",
    "            displayMessage(\"Invalid ride selection.\");\n",
    "        }\n",
    "    }\n",
    "\n",
    "    \n",
    "    if (document.readyState === \"loading\") {\n",
    "        document.addEventListener(\"DOMContentLoaded\", runWhenDOMLoaded);\n",
    "    } else {\n",
    "        runWhenDOMLoaded();\n",
    "    }\n",
    "</script>"
   ]
  }
 ],
 "metadata": {
  "kernelspec": {
   "display_name": ".venv",
   "language": "python",
   "name": "python3"
  },
  "language_info": {
   "codemirror_mode": {
    "name": "ipython",
    "version": 3
   },
   "file_extension": ".py",
   "mimetype": "text/x-python",
   "name": "python",
   "nbconvert_exporter": "python",
   "pygments_lexer": "ipython3",
   "version": "3.13.1"
  }
 },
 "nbformat": 4,
 "nbformat_minor": 2
}
