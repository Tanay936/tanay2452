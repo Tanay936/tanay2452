{
 "cells": [
  {
   "cell_type": "code",
   "execution_count": 8,
   "metadata": {
    "vscode": {
     "languageId": "javascript"
    }
   },
   "outputs": [
    {
     "data": {
      "application/javascript": "// Fridge Mini-Game: Enhanced with scores and quality feedback\n//place class + constructor here\nclass FridgeGame {\n   constructor() {\n     // Array of items in the fridge with their scores\n     this.fridgeItems = [\n       { name: \"Piece of pizza\", score: 10 },\n       { name: \"Milk carton\", score: 6 },\n       { name: \"Lettuce\", score: 4 },\n       { name: \"Jar of pickles\", score: 7 },\n       { name: \"Ketchup bottle\", score: 3 },\n       { name: \"Eggs\", score: 8 },\n       { name: \"Cheese block\", score: 9 },\n       { name: \"Tupperware of leftovers\", score: 5 },\n       { name: \"Yogurt\", score: 6 },\n       { name: \"Cucumber\", score: 2 }\n     ];\n   }\n   // Method to pick a random item from the fridge\n   grabItem() {\n     const randomIndex = Math.floor(Math.random() * this.fridgeItems.length);\n     return this.fridgeItems[randomIndex];\n   }\n   // Method to classify the find based on its score\n   classifyFind(score) {\n     if (score >= 8) {\n       return \"great, ready to eat!\";\n     } else if (score >= 5) {\n       return \"meh, could be better.\";\n     } else {\n       return \"bad, you might want to toss it.\";\n     }\n   }\n   // Reference method to start the game\n   play() {\n     console.log(\"Welcome to the Fridge Mini-Game!\");\n     const item = this.grabItem();\n     console.log(`You found a ${item.name}!`);\n     const feedback = this.classifyFind(item.score);\n     console.log(`It is ${feedback} Score: ${item.score}`);\n   }\n }\n // Create an instance of the game\n const fridgeGame = new FridgeGame();\n // Start the game by calling the play method\n fridgeGame.play();\n",
      "text/plain": [
       "<IPython.core.display.Javascript object>"
      ]
     },
     "metadata": {},
     "output_type": "display_data"
    }
   ],
   "source": [
    " %%js\n",
    "// Fridge Mini-Game: Enhanced with scores and quality feedback\n",
    "//place class + constructor here\n",
    "class FridgeGame {\n",
    "    constructor() {\n",
    "      // Array of items in the fridge with their scores\n",
    "      this.fridgeItems = [\n",
    "        { name: \"Piece of pizza\", score: 10 },\n",
    "        { name: \"Milk carton\", score: 6 },\n",
    "        { name: \"Lettuce\", score: 4 },\n",
    "        { name: \"Jar of pickles\", score: 7 },\n",
    "        { name: \"Ketchup bottle\", score: 3 },\n",
    "        { name: \"Eggs\", score: 8 },\n",
    "        { name: \"Cheese block\", score: 9 },\n",
    "        { name: \"Tupperware of leftovers\", score: 5 },\n",
    "        { name: \"Yogurt\", score: 6 },\n",
    "        { name: \"Cucumber\", score: 2 }\n",
    "      ];\n",
    "    }\n",
    "    // Method to pick a random item from the fridge\n",
    "    grabItem() {\n",
    "      const randomIndex = Math.floor(Math.random() * this.fridgeItems.length);\n",
    "      return this.fridgeItems[randomIndex];\n",
    "    }\n",
    "    // Method to classify the find based on its score\n",
    "    classifyFind(score) {\n",
    "      if (score >= 8) {\n",
    "        return \"great, ready to eat!\";\n",
    "      } else if (score >= 5) {\n",
    "        return \"meh, could be better.\";\n",
    "      } else {\n",
    "        return \"bad, you might want to toss it.\";\n",
    "      }\n",
    "    }\n",
    "    // Reference method to start the game\n",
    "    play() {\n",
    "      console.log(\"Welcome to the Fridge Mini-Game!\");\n",
    "      const item = this.grabItem();\n",
    "      console.log(`You found a ${item.name}!`);\n",
    "      const feedback = this.classifyFind(item.score);\n",
    "      console.log(`It is ${feedback} Score: ${item.score}`);\n",
    "    }\n",
    "  }\n",
    "  // Create an instance of the game\n",
    "  const fridgeGame = new FridgeGame();\n",
    "  // Start the game by calling the play method\n",
    "  fridgeGame.play();"
   ]
  }
 ],
 "metadata": {
  "kernelspec": {
   "display_name": ".venv",
   "language": "python",
   "name": "python3"
  },
  "language_info": {
   "codemirror_mode": {
    "name": "ipython",
    "version": 3
   },
   "file_extension": ".py",
   "mimetype": "text/x-python",
   "name": "python",
   "nbconvert_exporter": "python",
   "pygments_lexer": "ipython3",
   "version": "3.13.1"
  }
 },
 "nbformat": 4,
 "nbformat_minor": 2
}
