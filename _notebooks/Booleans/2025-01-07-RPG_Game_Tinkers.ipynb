{
 "cells": [
  {
   "cell_type": "raw",
   "metadata": {
    "vscode": {
     "languageId": "raw"
    }
   },
   "source": [
    "---\n",
    "layout: post\n",
    "title: RPG Game Tinkers\n",
    "permalink: /pair/habits\n",
    "type: collab\n",
    "comments: true\n",
    "sticky_rank: 1\n",
    "---"
   ]
  },
  {
   "cell_type": "markdown",
   "metadata": {},
   "source": [
    "Hello, My name is Tanay Ollalwar and this is my final exam for computer science.\n",
    "<br>\n",
    "\n",
    "Over the past 12 weeks, I have learned how to install and use various tools such as GitHub, Visual Studio Code, Homebrew, GitHub Portals, Jupyter Notebooks, and Python packages, which helped me develop and edit blogs. Along the way, I faced challenges like deploying my blog on a localhost and adding images and colors, but with the support of my TA’s, Tanisha and Rachit, as well as my peers, I was able to troubleshoot and resolve these issues. A key part of this journey was peer-led lessons, where I, along with Aarav, Zhengji, and Advait, taught a lesson on arrays. Planning and researching how to present the topic was difficult, and though we were initially nervous, we found it enjoyable and realized that teaching deepens one’s own understanding. While working on this lesson, we collaborated in a shared repository, which required effective communication about making changes, avoiding conflicts, and properly using git pull. At first, this was challenging, but as we understood each other’s workflow, it became easier, especially when working on our RPG game. Finally, after completing our lesson, we submitted a pull request to Mr. Mortenson, which turned out to be more complex than expected but was a valuable experience.\n",
    "\n"
   ]
  },
  {
   "cell_type": "markdown",
   "metadata": {},
   "source": [
    "<br><br>\n",
    "<div style=\"display: flex; flex-wrap: wrap; gap: 10px;\">\n",
    "    <a href=\"http://127.0.0.1:4000/portfolio_2025/gamify/adventureGame\" style=\"text-decoration: none;\">\n",
    "        <div style=\"background-color:rgb(255, 81, 0); color: white; padding: 10px 20px; border-radius: 5px; font-weight: bold;\">\n",
    "        RPG Game\n",
    "        </div>\n",
    "    </a>\n",
    "</div>\n",
    "\n"
   ]
  },
  {
   "cell_type": "markdown",
   "metadata": {},
   "source": [
    "<br><br><br>\n",
    "<h1>RPG Game Tinkers</h1>\n",
    "<br>\n",
    "1)\tWe replaced Mr. Mortenson’s sprites with new character designs, including a walking boy and a demon. Additionally, we changed the “Chill Guy” character to “The Hero”."
   ]
  },
  {
   "cell_type": "markdown",
   "metadata": {},
   "source": [
    "<h2>Code for hero</h2>"
   ]
  },
  {
   "cell_type": "code",
   "execution_count": null,
   "metadata": {
    "vscode": {
     "languageId": "javascript"
    }
   },
   "outputs": [],
   "source": [
    "const sprite_src_chillguy = path + \"/images/gamify/Hero.png\"; // be sure to include the path\n",
    "    const CHILLGUY_SCALE_FACTOR = 5;\n",
    "    const sprite_data_chillguy = {\n",
    "        id: 'Hero',\n",
    "        greeting: \"Hi I am Varra, the God. I am looking for wisdom and adventure!\",\n",
    "        src: sprite_src_chillguy,\n",
    "        SCALE_FACTOR: CHILLGUY_SCALE_FACTOR,\n",
    "        STEP_FACTOR: 1000,\n",
    "        ANIMATION_RATE: 50,\n",
    "        INIT_POSITION: { x: 0, y: height - (height/CHILLGUY_SCALE_FACTOR) }, \n",
    "        pixels: {height: 384, width: 512},\n",
    "        orientation: {rows: 3, columns: 4 },\n",
    "        down: {row: 0, start: 0, columns: 3 },\n",
    "        left: {row: 2, start: 0, columns: 3 },\n",
    "        right: {row: 1, start: 0, columns: 3 },\n",
    "        up: {row: 3, start: 0, columns: 3 },\n",
    "        hitbox: { widthPercentage: 0.45, heightPercentage: 0.2 },\n",
    "        keypress: { up: 87, left: 65, down: 83, right: 68 } // W, A, S, D"
   ]
  },
  {
   "cell_type": "markdown",
   "metadata": {},
   "source": [
    "<h2>Code for walkingboy</h2>"
   ]
  },
  {
   "cell_type": "code",
   "execution_count": null,
   "metadata": {
    "vscode": {
     "languageId": "javascript"
    }
   },
   "outputs": [],
   "source": [
    "const sprite_src_r2d2 = path + \"/images/gamify/walkingboy.png\"; // Ensure correct path\n",
    "const sprite_greet_r2d2 = \"Hi I am he walking boy. I will help you save this planet!\";\n",
    "\n",
    "const sprite_data_r2d2 = {\n",
    "  id: 'walkingboy',\n",
    "  greeting: sprite_greet_r2d2,\n",
    "  src: sprite_src_r2d2,\n",
    "  SCALE_FACTOR: 5,  // Adjust this for proper scaling\n",
    "  ANIMATION_RATE: 100,\n",
    "  pixels: { width: 500, height: 500 },  // Fixed dimensions\n",
    "  INIT_POSITION: { x: (width * 1 / 4), y: (height * 3 / 4) }, // Adjusted position\n",
    "  orientation: { rows: 1, columns: 3 },\n",
    "  down: { row: 0, start: 0, columns: 3 },  // Fixed typo (columnss → columns)\n",
    "  hitbox: { widthPercentage: 0.1, heightPercentage: 0.2 },\n",
    "\n",
    "  /* Reaction function */\n",
    "  reaction: function() {\n",
    "    alert(sprite_greet_r2d2);\n",
    "  },\n",
    "}"
   ]
  },
  {
   "cell_type": "markdown",
   "metadata": {},
   "source": [
    "<h2>Code for Demon</h2>"
   ]
  },
  {
   "cell_type": "code",
   "execution_count": null,
   "metadata": {
    "vscode": {
     "languageId": "javascript"
    }
   },
   "outputs": [],
   "source": [
    "const sprite_src_octocat = path + \"/images/gamify/demon.png\"; // be sure to include the path\n",
    "      const sprite_greet_octocat = \"Hi I am a demon! I was converted to a demon when this world formed. Help me convert back and I will help you escape in return\";\n",
    "      const sprite_data_octocat = {\n",
    "        id: 'Demon',\n",
    "        greeting: sprite_greet_octocat,\n",
    "        src: sprite_src_octocat,\n",
    "        SCALE_FACTOR: 10,  // Adjust this based on your scaling needs\n",
    "        ANIMATION_RATE: 50,\n",
    "        pixels: {height: 801, width: 801},\n",
    "        INIT_POSITION: { x: (width / 4), y: (height / 4)},\n",
    "        orientation: {rows: 1, columns: 4 },\n",
    "        down: {row: 0, start: 0, columns: 3 },  // This is the stationary npc, down is default \n",
    "        hitbox: { widthPercentage: 0.1, heightPercentage: 0.1 },"
   ]
  },
  {
   "cell_type": "markdown",
   "metadata": {},
   "source": [
    "<br><br>\n",
    "2) We removed Mr. Mortenson’s sprite animations and implemented our own custom animations, along with new animation code."
   ]
  },
  {
   "cell_type": "markdown",
   "metadata": {},
   "source": [
    "\n",
    "<h2>Code for sprite animation</h2>\n"
   ]
  },
  {
   "cell_type": "code",
   "execution_count": null,
   "metadata": {
    "vscode": {
     "languageId": "javascript"
    }
   },
   "outputs": [],
   "source": [
    "const sprite_src_r2d2 = path + \"/images/gamify/walkingboy.png\"; // Ensure correct path\n",
    "const sprite_greet_r2d2 = \"Hi I am walkingBoy. I will help ypu save this planet!\";\n",
    "const sprite_data_r2d2 = {\n",
    "  id: 'walkingboy',\n",
    "  greeting: sprite_greet_r2d2,\n",
    "  src: sprite_src_r2d2,\n",
    "  SCALE_FACTOR: 5,  // Adjust this for proper scaling\n",
    "  ANIMATION_RATE: 100,\n",
    "  pixels: { width: 500, height: 500 },  // Fixed dimensions\n",
    "  INIT_POSITION: { x: (width * 1 / 4), y: (height * 3 / 4) }, // Adjusted position\n",
    "  orientation: { rows: 1, columns: 3 },\n",
    "  down: { row: 0, start: 0, columns: 3 },  // Fixed typo (columnss → columns)\n",
    "  hitbox: { widthPercentage: 0.1, heightPercentage: 0.2 },\n",
    "  /* Reaction function */\n",
    "  reaction: function() {\n",
    "    alert(sprite_greet_r2d2);\n",
    "  },"
   ]
  },
  {
   "cell_type": "markdown",
   "metadata": {},
   "source": [
    "<br><br>\n",
    "3) We introduced sprite movement to make the game more interactive and dynamic, improving the overall gameplay."
   ]
  },
  {
   "cell_type": "markdown",
   "metadata": {},
   "source": [
    "\n",
    "<h2>Code for sprite movement</h2>\n"
   ]
  },
  {
   "cell_type": "code",
   "execution_count": null,
   "metadata": {
    "vscode": {
     "languageId": "javascript"
    }
   },
   "outputs": [],
   "source": [
    "const sprite_src_chillguy = path + \"/images/gamify/Hero.png\"; // be sure to include the path\n",
    "    const CHILLGUY_SCALE_FACTOR = 5;\n",
    "    const sprite_data_chillguy = {\n",
    "        id: 'Hero',\n",
    "        greeting: \"Hi I am Varra, the God. I am looking for wisdom and adventure!\",\n",
    "        src: sprite_src_chillguy,\n",
    "        SCALE_FACTOR: CHILLGUY_SCALE_FACTOR,\n",
    "        STEP_FACTOR: 1000,\n",
    "        ANIMATION_RATE: 50,\n",
    "        INIT_POSITION: { x: 0, y: height - (height/CHILLGUY_SCALE_FACTOR) }, \n",
    "        pixels: {height: 384, width: 512},\n",
    "        orientation: {rows: 3, columns: 4 },\n",
    "        down: {row: 0, start: 0, columns: 3 },\n",
    "        left: {row: 2, start: 0, columns: 3 },\n",
    "        right: {row: 1, start: 0, columns: 3 },\n",
    "        up: {row: 3, start: 0, columns: 3 },\n",
    "        hitbox: { widthPercentage: 0.45, heightPercentage: 0.2 },\n",
    "        keypress: { up: 87, left: 65, down: 83, right: 68 } // W, A, S, D"
   ]
  },
  {
   "cell_type": "markdown",
   "metadata": {},
   "source": [
    "<br><br>\n",
    "4) We changed the Background"
   ]
  },
  {
   "cell_type": "markdown",
   "metadata": {},
   "source": [
    "<h2>Code for background</h2>"
   ]
  },
  {
   "cell_type": "code",
   "execution_count": null,
   "metadata": {
    "vscode": {
     "languageId": "javascript"
    }
   },
   "outputs": [],
   "source": [
    "const image_src_desert = path + \"/images/gamify/cyberpunk_background.jpg\"; // be sure to include the path\n",
    "    const image_data_desert = {\n",
    "        name: 'desert',\n",
    "        greeting: \"Welcome to the destopia!  It is hot and dry here, but there are many adventures to be had!\",\n",
    "        src: image_src_desert,\n",
    "        pixels: {height: 580, width: 1038}"
   ]
  },
  {
   "cell_type": "markdown",
   "metadata": {},
   "source": [
    "<br><br>\n",
    "5) We changed tthe questions for each of the mascots "
   ]
  },
  {
   "cell_type": "code",
   "execution_count": null,
   "metadata": {
    "vscode": {
     "languageId": "javascript"
    }
   },
   "outputs": [],
   "source": [
    "quiz: { \n",
    "    title: \"Linux Command Quiz\",\n",
    "    questions: [\n",
    "      \"Which command is used to scan the archives of the Fallen Civilization?\\n1. ls\\n2. dir\\n3. list\\n4. show\",\n",
    "      \"Which command is used to traverse the ruins of the Old World?\\n1. cd\\n2. chdir\\n3. changedir\\n4. changedirectory\",\n",
    "      \"Which command is used to establish a new outpost for the Resistance?\\n1. mkdir\\n2. newdir\\n3. createdir\\n4. makedir\",\n",
    "      \"Which command is used to erase a classified document before it falls into enemy hands?\\n1. rm\\n2. remove\\n3. delete\\n4. erase\",\n",
    "      \"Which command is used to dismantle an abandoned stronghold?\\n1. rmdir\\n2. removedir\\n3. deletedir\\n4. erasedir\",\n",
    "      \"Which command is used to duplicate encrypted data before transmission?\\n1. cp\\n2. copy\\n3. duplicate\\n4. xerox\",\n",
    "      \"Which command is used to transfer sensitive files to a secure vault?\\n1. mv\\n2. move\\n3. transfer\\n4. relocate\",\n",
    "      \"Which command is used to decrypt and reveal the contents of a lost manuscript?\\n1. cat\\n2. view\\n3. show\\n4. display\",\n",
    "      \"Which command is used to uncover hidden messages buried within ancient texts?\\n1. grep\\n2. search\\n3. find\\n4. locate\",\n",
    "      \"Which command is used to access fragments of the Forbidden Knowledge?\\n1. less\\n2. more\\n3. view\\n4. cat\" \n",
    "    ] \n",
    "  },\n",
    "  reaction: function() {\n",
    "    alert(sprite_greet_tux);\n",
    "  },\n",
    "  interact: function() {\n",
    "    let quiz = new Quiz(); // Create a new Quiz instance\n",
    "    quiz.initialize();\n",
    "    quiz.openPanel(sprite_data_tux.quiz);\n",
    "    }\n",
    "\n",
    "};\n",
    "\n",
    "\n",
    "\n",
    "// NPC data for Octocat\n",
    "const sprite_src_octocat = path + \"/images/gamify/demon.png\"; // be sure to include the path\n",
    "const sprite_greet_octocat = \"Hi I am Octocat! I am the GitHub code code code collaboration mascot\";\n",
    "const sprite_data_octocat = {\n",
    "  id: 'Octocat',\n",
    "  greeting: sprite_greet_octocat,\n",
    "  src: sprite_src_octocat,\n",
    "  SCALE_FACTOR: 10,  // Adjust this based on your scaling needs\n",
    "  ANIMATION_RATE: 50,\n",
    "  pixels: {height: 801, width: 801},\n",
    "  INIT_POSITION: { x: (width / 4), y: (height / 4)},\n",
    "  orientation: {rows: 1, columns: 4 },\n",
    "  down: {row: 0, start: 0, columns: 3 },  // This is the stationary npc, down is default \n",
    "  hitbox: { widthPercentage: 0.1, heightPercentage: 0.1 },\n",
    "  // GitHub command quiz \n",
    "  quiz: { \n",
    "    title: \"Dystopian Git Command Quiz\",\n",
    "    questions: [\n",
    "      \"Which command is used to replicate the encrypted archives of the Resistance?\\n1. git clone\\n2. git fork\\n3. git copy\\n4. git download\",\n",
    "      \"Which command is used to mark data for synchronization with the Rebellion’s central server?\\n1. git add\\n2. git stage\\n3. git commit\\n4. git push\",\n",
    "      \"Which command is used to finalize transmissions before they are sent to the Resistance?\\n1. git commit\\n2. git add\\n3. git save\\n4. git push\",\n",
    "      \"Which command is used to transmit encrypted messages to the Resistance’s mainframe?\\n1. git push\\n2. git upload\\n3. git send\\n4. git commit\",\n",
    "      \"Which command is used to retrieve intelligence updates from the Rebel network?\\n1. git pull\\n2. git fetch\\n3. git receive\\n4. git update\",\n",
    "      \"Which command is used to analyze the status of the Resistance’s encrypted files?\\n1. git status\\n2. git check\\n3. git info\\n4. git log\",\n",
    "      \"Which command is used to establish a new faction within the Resistance?\\n1. git branch\\n2. git create-branch\\n3. git new-branch\\n4. git checkout\",\n",
    "      \"Which command is used to infiltrate a different sector of the Resistance?\\n1. git checkout\\n2. git switch\\n3. git change-branch\\n4. git branch\",\n",
    "      \"Which command is used to unite separate factions of the Resistance?\\n1. git merge\\n2. git combine\\n3. git join\\n4. git integrate\",\n",
    "      \"Which command is used to decrypt the archives of past Resistance operations?\\n1. git log\\n2. git history\\n3. git commits\\n4. git show\"\n",
    "    ] \n",
    "  },\n",
    "  reaction: function() {\n",
    "    alert(sprite_greet_octocat);\n",
    "  },\n",
    "  interact: function() {\n",
    "    let quiz = new Quiz(); // Create a new Quiz instance\n",
    "    quiz.initialize();\n",
    "    quiz.openPanel(sprite_data_octocat.quiz);\n",
    "  }\n",
    "}\n",
    "\n",
    "\n",
    "const sprite_src_robot = path + \"/images/gamify/robot.png\"; // be sure to include the path\n",
    "const sprite_greet_robot = \"Hi I am Robot, the Jupyter Notebook mascot.  I am very happy to spend some linux shell time with you!\";\n",
    "const sprite_data_robot = {\n",
    "id: 'Robot',\n",
    "greeting: sprite_greet_robot,\n",
    "src: sprite_src_robot,\n",
    "SCALE_FACTOR: 10,  // Adjust this based on your scaling needs\n",
    "ANIMATION_RATE: 100,\n",
    "pixels: {height: 316, width: 627},\n",
    "INIT_POSITION: { x: (width * 3 / 4), y: (height * 1 / 4)},\n",
    "orientation: {rows: 3, columns: 6 },\n",
    "down: {row: 1, start: 0, columns: 6 },  // This is the stationary npc, down is default \n",
    "hitbox: { widthPercentage: 0.1, heightPercentage: 0.2 },\n",
    "// Linux command quiz\n",
    "quiz: { \n",
    "  title: \"Jupyter Notebook Command Quiz\",\n",
    "  questions: [\n",
    "    \"Which shortcut is used to execute a command in the Resistance’s encrypted terminal?\\n1. Shift + Enter\\n2. Ctrl + Enter\\n3. Alt + Enter\\n4. Tab + Enter\",\n",
    "    \"Which shortcut deploys a new command module above the current one?\\n1. A\\n2. B\\n3. C\\n4. D\",\n",
    "    \"Which shortcut deploys a new command module below the current one?\\n1. B\\n2. A\\n3. C\\n4. D\",\n",
    "    \"Which shortcut encodes the current transmission into ciphered text?\\n1. M\\n2. Y\\n3. R\\n4. K\",\n",
    "    \"Which shortcut switches the terminal back to raw command mode?\\n1. Y\\n2. M\\n3. C\\n4. D\",\n",
    "    \"Which shortcut purges the active module from the Resistance’s system?\\n1. D, D\\n2. X\\n3. Del\\n4. Ctrl + D\",\n",
    "    \"Which shortcut archives the Resistance’s current findings?\\n1. Ctrl + S\\n2. Alt + S\\n3. Shift + S\\n4. Tab + S\",\n",
    "    \"Which shortcut initiates a full system reboot?\\n1. 0, 0\\n2. R, R\\n3. K, K\\n4. Shift + R\",\n",
    "    \"Which shortcut sends an emergency signal to halt the mainframe?\\n1. I, I\\n2. Ctrl + C\\n3. Shift + I\\n4. Alt + I\",\n",
    "    \"Which shortcut reveals the hidden sequence markers in encrypted logs?\\n1. L\\n2. N\\n3. T\\n4. G\"\n",
    "  ] \n",
    "},\n",
    "reaction: function() {\n",
    "  alert(sprite_greet_robot);\n",
    "},\n",
    "interact: function() {\n",
    "  let quiz = new Quiz(); // Create a new Quiz instance\n",
    "  quiz.initialize();\n",
    "  quiz.openPanel(sprite_data_robot.quiz);\n",
    "}\n",
    "}"
   ]
  },
  {
   "cell_type": "markdown",
   "metadata": {
    "vscode": {
     "languageId": "raw"
    }
   },
   "source": [
    "<br><br>\n",
    "<h2>This is my flowchart</h2>\n",
    "<br>\n",
    "<img src=\"https://github.com/user-attachments/assets/09674c9f-62f4-48d7-8a9c-61bd0e82c352\" width=\"1000\" height=\"750\" >\n",
    "\n",
    "<br><br>\n"
   ]
  },
  {
   "cell_type": "markdown",
   "metadata": {},
   "source": [
    "<h1>Night at the Museum Feedback</h1>\n",
    "<br>\n",
    "*\n",
    "\n",
    "<br><br><br>\n"
   ]
  },
  {
   "cell_type": "markdown",
   "metadata": {},
   "source": [
    "<h1>Reflection</h1>\n",
    "In the future, I plan to major in Computer Science in college and pursue a career as a software engineer, inspired by both of my parents, who are software engineers themselves. I admire them greatly and aspire to follow in their footsteps because I find software engineering fascinating. At school, I intend to take both the AP Computer Science Principles (CSP) and the AP Computer Science A (CSA) courses to build a solid foundation. In terms of strengths and weaknesses, I believe that working with others and explaining concepts to others are areas where I can improve. On the other hand, I excel at leadership, especially when working in shared repositories, as I enjoy taking charge and organizing collaborative efforts Overall on the Fial exam I believe I deserve a 97%. I effectively communicated my ideas and did a great job on the game itself. However, I didn’t give myself a perfect score because I recognize that there is always room for improvement and growth, even in my best efforts."
   ]
  }
 ],
 "metadata": {
  "kernelspec": {
   "display_name": ".venv",
   "language": "python",
   "name": "python3"
  },
  "language_info": {
   "codemirror_mode": {
    "name": "ipython",
    "version": 3
   },
   "file_extension": ".py",
   "mimetype": "text/x-python",
   "name": "python",
   "nbconvert_exporter": "python",
   "pygments_lexer": "ipython3",
   "version": "3.13.1"
  }
 },
 "nbformat": 4,
 "nbformat_minor": 2
}
