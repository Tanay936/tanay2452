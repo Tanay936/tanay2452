{
 "cells": [
  {
   "cell_type": "raw",
   "metadata": {
    "vscode": {
     "languageId": "raw"
    }
   },
   "source": [
    "---\n",
    "layout: post\n",
    "title: RPG Game Tinkers\n",
    "permalink: /pair/habits\n",
    "type: collab\n",
    "comments: true\n",
    "sticky_rank: 1\n",
    "---"
   ]
  },
  {
   "cell_type": "markdown",
   "metadata": {},
   "source": [
    "Hello, My name is Tanay Ollalwar and this is my final exam for computer science.\n",
    "<br>\n",
    "\n",
    "Over the past 12 weeks, I have learned how to install and use various tools such as GitHub, Visual Studio Code, Homebrew, GitHub Portals, Jupyter Notebooks, and Python packages, which helped me develop and edit blogs. Along the way, I faced challenges like deploying my blog on a localhost and adding images and colors, but with the support of my TA’s, Tanisha and Rachit, as well as my peers, I was able to troubleshoot and resolve these issues. A key part of this journey was peer-led lessons, where I, along with Aarav, Zhengji, and Advait, taught a lesson on arrays. Planning and researching how to present the topic was difficult, and though we were initially nervous, we found it enjoyable and realized that teaching deepens one’s own understanding. While working on this lesson, we collaborated in a shared repository, which required effective communication about making changes, avoiding conflicts, and properly using git pull. At first, this was challenging, but as we understood each other’s workflow, it became easier, especially when working on our RPG game. Finally, after completing our lesson, we submitted a pull request to Mr. Mortenson, which turned out to be more complex than expected but was a valuable experience.\n",
    "\n"
   ]
  },
  {
   "cell_type": "markdown",
   "metadata": {},
   "source": [
    "<br><br>\n",
    "<div style=\"display: flex; flex-wrap: wrap; gap: 10px;\">\n",
    "    <a href=\"http://127.0.0.1:4100/portfolio_2025/gamify/adventureGame\" style=\"text-decoration: none;\">\n",
    "        <div style=\"background-color:rgb(255, 81, 0); color: white; padding: 10px 20px; border-radius: 5px; font-weight: bold;\">\n",
    "        RPG Game\n",
    "        </div>\n",
    "    </a>\n",
    "</div>\n",
    "\n"
   ]
  },
  {
   "cell_type": "markdown",
   "metadata": {},
   "source": [
    "<br><br><br>\n",
    "<h1>RPG Game Tinkers</h1>\n",
    "<br>\n",
    "1)\tWe replaced Mr. Mortenson’s sprites with new character designs, including a walking boy and a demon. Additionally, we changed the “Chill Guy” character to “The Hero”."
   ]
  },
  {
   "cell_type": "code",
   "execution_count": null,
   "metadata": {
    "vscode": {
     "languageId": "javascript"
    }
   },
   "outputs": [],
   "source": []
  },
  {
   "cell_type": "markdown",
   "metadata": {},
   "source": [
    "<br><br>\n",
    "2) We removed Mr. Mortenson’s sprite animations and implemented our own custom animations, along with new animation code."
   ]
  },
  {
   "cell_type": "markdown",
   "metadata": {},
   "source": [
    "<br>\n",
    "<h2>Code for sprite animation</h2>"
   ]
  },
  {
   "cell_type": "code",
   "execution_count": null,
   "metadata": {
    "vscode": {
     "languageId": "javascript"
    }
   },
   "outputs": [],
   "source": [
    "const sprite_src_r2d2 = path + \"/images/gamify/walkingboy.png\"; // Ensure correct path\n",
    "const sprite_greet_r2d2 = \"Hi I am R2D2. Leave this planet and help defend the rebel base on Hoth!\";\n",
    "const sprite_data_r2d2 = {\n",
    "  id: 'StarWarsR2D2',\n",
    "  greeting: sprite_greet_r2d2,\n",
    "  src: sprite_src_r2d2,\n",
    "  SCALE_FACTOR: 5,  // Adjust this for proper scaling\n",
    "  ANIMATION_RATE: 100,\n",
    "  pixels: { width: 500, height: 500 },  // Fixed dimensions\n",
    "  INIT_POSITION: { x: (width * 1 / 4), y: (height * 3 / 4) }, // Adjusted position\n",
    "  orientation: { rows: 1, columns: 3 },\n",
    "  down: { row: 0, start: 0, columns: 3 },  // Fixed typo (columnss → columns)\n",
    "  hitbox: { widthPercentage: 0.1, heightPercentage: 0.2 },\n",
    "  /* Reaction function */\n",
    "  reaction: function() {\n",
    "    alert(sprite_greet_r2d2);\n",
    "  },"
   ]
  },
  {
   "cell_type": "markdown",
   "metadata": {},
   "source": [
    "<br><br>\n",
    "3) We introduced sprite movement to make the game more interactive and dynamic, improving the overall gameplay."
   ]
  },
  {
   "cell_type": "markdown",
   "metadata": {},
   "source": [
    "<br>\n",
    "<h2>Code for sprite movement</h2>\n",
    "<br>"
   ]
  },
  {
   "cell_type": "code",
   "execution_count": null,
   "metadata": {
    "vscode": {
     "languageId": "javascript"
    }
   },
   "outputs": [],
   "source": [
    "const sprite_src_chillguy = path + \"/images/gamify/chillguy2_480.png\"; // be sure to include the path\n",
    "    const CHILLGUY_SCALE_FACTOR = 5;\n",
    "    const sprite_data_chillguy = {\n",
    "        id: 'Chill Guy',\n",
    "        greeting: \"Hi I am Chill Guy, the desert wanderer. I am looking for wisdom and adventure!\",\n",
    "        src: sprite_src_chillguy,\n",
    "        SCALE_FACTOR: CHILLGUY_SCALE_FACTOR,\n",
    "        STEP_FACTOR: 1000,\n",
    "        ANIMATION_RATE: 50,\n",
    "        INIT_POSITION: { x: 0, y: height - (height/CHILLGUY_SCALE_FACTOR) },\n",
    "        pixels: {height: 384, width: 512},\n",
    "        orientation: {rows: 3, columns: 4 },\n",
    "        down: {row: 0, start: 0, columns: 3 },\n",
    "        left: {row: 2, start: 0, columns: 3 },\n",
    "        right: {row: 1, start: 0, columns: 3 },\n",
    "        up: {row: 3, start: 0, columns: 3 },\n",
    "        hitbox: { widthPercentage: 0.45, heightPercentage: 0.2 },\n",
    "        keypress: { up: 87, left: 65, down: 83, right: 68 } // W, A, S, D\n",
    "    };"
   ]
  },
  {
   "cell_type": "markdown",
   "metadata": {
    "vscode": {
     "languageId": "raw"
    }
   },
   "source": [
    "<br><br>\n",
    "<h2>This is my flowchart</h2>\n",
    "<br>\n",
    "<img src=\"https://github.com/user-attachments/assets/09674c9f-62f4-48d7-8a9c-61bd0e82c352\" width=\"1000\" height=\"750\" >\n",
    "\n",
    "<br><br>\n"
   ]
  },
  {
   "cell_type": "markdown",
   "metadata": {},
   "source": [
    "<h1>Night at the Museum Feedback</h1>\n",
    "<br>\n",
    "*\n",
    "\n",
    "<br><br><br>\n"
   ]
  },
  {
   "cell_type": "markdown",
   "metadata": {},
   "source": [
    "<h1>Reflection</h1>\n",
    "In the future, I plan to major in Computer Science in college and pursue a career as a software engineer, inspired by both of my parents, who are software engineers themselves. I admire them greatly and aspire to follow in their footsteps because I find software engineering fascinating. At school, I intend to take both the AP Computer Science Principles (CSP) and the AP Computer Science A (CSA) courses to build a solid foundation. In terms of strengths and weaknesses, I believe that working with others and explaining concepts to others are areas where I can improve. On the other hand, I excel at leadership, especially when working in shared repositories, as I enjoy taking charge and organizing collaborative efforts Overall on the Fial exam I believe I deserve a 97%. I effectively communicated my ideas and did a great job on the game itself. However, I didn’t give myself a perfect score because I recognize that there is always room for improvement and growth, even in my best efforts."
   ]
  }
 ],
 "metadata": {
  "kernelspec": {
   "display_name": ".venv",
   "language": "python",
   "name": "python3"
  },
  "language_info": {
   "codemirror_mode": {
    "name": "ipython",
    "version": 3
   },
   "file_extension": ".py",
   "mimetype": "text/x-python",
   "name": "python",
   "nbconvert_exporter": "python",
   "pygments_lexer": "ipython3",
   "version": "3.13.1"
  }
 },
 "nbformat": 4,
 "nbformat_minor": 2
}
